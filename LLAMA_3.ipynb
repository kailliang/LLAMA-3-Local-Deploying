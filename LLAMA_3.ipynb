{
  "nbformat": 4,
  "nbformat_minor": 0,
  "metadata": {
    "colab": {
      "provenance": [],
      "gpuType": "T4",
      "authorship_tag": "ABX9TyNF2LBVG8TzAKzr6txyUje5",
      "include_colab_link": true
    },
    "kernelspec": {
      "name": "python3",
      "display_name": "Python 3"
    },
    "language_info": {
      "name": "python"
    },
    "accelerator": "GPU",
    "widgets": {
      "application/vnd.jupyter.widget-state+json": {
        "1d764ad584564b7280bf668869b137a5": {
          "model_module": "@jupyter-widgets/controls",
          "model_name": "HBoxModel",
          "model_module_version": "1.5.0",
          "state": {
            "_dom_classes": [],
            "_model_module": "@jupyter-widgets/controls",
            "_model_module_version": "1.5.0",
            "_model_name": "HBoxModel",
            "_view_count": null,
            "_view_module": "@jupyter-widgets/controls",
            "_view_module_version": "1.5.0",
            "_view_name": "HBoxView",
            "box_style": "",
            "children": [
              "IPY_MODEL_97c7ecf06f9940fabe5f9fde1f25b53c",
              "IPY_MODEL_8aca835910844c9db81f6c7fb2d14733",
              "IPY_MODEL_98ca695b3723456d95d8dacdf9aac4eb"
            ],
            "layout": "IPY_MODEL_a1593afce38e4b2e83e0fdfedb0b734f"
          }
        },
        "97c7ecf06f9940fabe5f9fde1f25b53c": {
          "model_module": "@jupyter-widgets/controls",
          "model_name": "HTMLModel",
          "model_module_version": "1.5.0",
          "state": {
            "_dom_classes": [],
            "_model_module": "@jupyter-widgets/controls",
            "_model_module_version": "1.5.0",
            "_model_name": "HTMLModel",
            "_view_count": null,
            "_view_module": "@jupyter-widgets/controls",
            "_view_module_version": "1.5.0",
            "_view_name": "HTMLView",
            "description": "",
            "description_tooltip": null,
            "layout": "IPY_MODEL_a724c3127c0c4c1b93a6a3391522bec7",
            "placeholder": "​",
            "style": "IPY_MODEL_47f83454776247bd8ff79fd380d9415d",
            "value": "Loading checkpoint shards: 100%"
          }
        },
        "8aca835910844c9db81f6c7fb2d14733": {
          "model_module": "@jupyter-widgets/controls",
          "model_name": "FloatProgressModel",
          "model_module_version": "1.5.0",
          "state": {
            "_dom_classes": [],
            "_model_module": "@jupyter-widgets/controls",
            "_model_module_version": "1.5.0",
            "_model_name": "FloatProgressModel",
            "_view_count": null,
            "_view_module": "@jupyter-widgets/controls",
            "_view_module_version": "1.5.0",
            "_view_name": "ProgressView",
            "bar_style": "success",
            "description": "",
            "description_tooltip": null,
            "layout": "IPY_MODEL_4c277c76d7414f15b28cbbf961b7cb2a",
            "max": 4,
            "min": 0,
            "orientation": "horizontal",
            "style": "IPY_MODEL_2a1b7e8edfe54580a852bfd6c51bcd66",
            "value": 4
          }
        },
        "98ca695b3723456d95d8dacdf9aac4eb": {
          "model_module": "@jupyter-widgets/controls",
          "model_name": "HTMLModel",
          "model_module_version": "1.5.0",
          "state": {
            "_dom_classes": [],
            "_model_module": "@jupyter-widgets/controls",
            "_model_module_version": "1.5.0",
            "_model_name": "HTMLModel",
            "_view_count": null,
            "_view_module": "@jupyter-widgets/controls",
            "_view_module_version": "1.5.0",
            "_view_name": "HTMLView",
            "description": "",
            "description_tooltip": null,
            "layout": "IPY_MODEL_a32666f99ce7465eb859ed92d445be6d",
            "placeholder": "​",
            "style": "IPY_MODEL_1c7ee05a9e584a8e9bd3bb3fa3c4c310",
            "value": " 4/4 [01:19&lt;00:00, 26.01s/it]"
          }
        },
        "a1593afce38e4b2e83e0fdfedb0b734f": {
          "model_module": "@jupyter-widgets/base",
          "model_name": "LayoutModel",
          "model_module_version": "1.2.0",
          "state": {
            "_model_module": "@jupyter-widgets/base",
            "_model_module_version": "1.2.0",
            "_model_name": "LayoutModel",
            "_view_count": null,
            "_view_module": "@jupyter-widgets/base",
            "_view_module_version": "1.2.0",
            "_view_name": "LayoutView",
            "align_content": null,
            "align_items": null,
            "align_self": null,
            "border": null,
            "bottom": null,
            "display": null,
            "flex": null,
            "flex_flow": null,
            "grid_area": null,
            "grid_auto_columns": null,
            "grid_auto_flow": null,
            "grid_auto_rows": null,
            "grid_column": null,
            "grid_gap": null,
            "grid_row": null,
            "grid_template_areas": null,
            "grid_template_columns": null,
            "grid_template_rows": null,
            "height": null,
            "justify_content": null,
            "justify_items": null,
            "left": null,
            "margin": null,
            "max_height": null,
            "max_width": null,
            "min_height": null,
            "min_width": null,
            "object_fit": null,
            "object_position": null,
            "order": null,
            "overflow": null,
            "overflow_x": null,
            "overflow_y": null,
            "padding": null,
            "right": null,
            "top": null,
            "visibility": null,
            "width": null
          }
        },
        "a724c3127c0c4c1b93a6a3391522bec7": {
          "model_module": "@jupyter-widgets/base",
          "model_name": "LayoutModel",
          "model_module_version": "1.2.0",
          "state": {
            "_model_module": "@jupyter-widgets/base",
            "_model_module_version": "1.2.0",
            "_model_name": "LayoutModel",
            "_view_count": null,
            "_view_module": "@jupyter-widgets/base",
            "_view_module_version": "1.2.0",
            "_view_name": "LayoutView",
            "align_content": null,
            "align_items": null,
            "align_self": null,
            "border": null,
            "bottom": null,
            "display": null,
            "flex": null,
            "flex_flow": null,
            "grid_area": null,
            "grid_auto_columns": null,
            "grid_auto_flow": null,
            "grid_auto_rows": null,
            "grid_column": null,
            "grid_gap": null,
            "grid_row": null,
            "grid_template_areas": null,
            "grid_template_columns": null,
            "grid_template_rows": null,
            "height": null,
            "justify_content": null,
            "justify_items": null,
            "left": null,
            "margin": null,
            "max_height": null,
            "max_width": null,
            "min_height": null,
            "min_width": null,
            "object_fit": null,
            "object_position": null,
            "order": null,
            "overflow": null,
            "overflow_x": null,
            "overflow_y": null,
            "padding": null,
            "right": null,
            "top": null,
            "visibility": null,
            "width": null
          }
        },
        "47f83454776247bd8ff79fd380d9415d": {
          "model_module": "@jupyter-widgets/controls",
          "model_name": "DescriptionStyleModel",
          "model_module_version": "1.5.0",
          "state": {
            "_model_module": "@jupyter-widgets/controls",
            "_model_module_version": "1.5.0",
            "_model_name": "DescriptionStyleModel",
            "_view_count": null,
            "_view_module": "@jupyter-widgets/base",
            "_view_module_version": "1.2.0",
            "_view_name": "StyleView",
            "description_width": ""
          }
        },
        "4c277c76d7414f15b28cbbf961b7cb2a": {
          "model_module": "@jupyter-widgets/base",
          "model_name": "LayoutModel",
          "model_module_version": "1.2.0",
          "state": {
            "_model_module": "@jupyter-widgets/base",
            "_model_module_version": "1.2.0",
            "_model_name": "LayoutModel",
            "_view_count": null,
            "_view_module": "@jupyter-widgets/base",
            "_view_module_version": "1.2.0",
            "_view_name": "LayoutView",
            "align_content": null,
            "align_items": null,
            "align_self": null,
            "border": null,
            "bottom": null,
            "display": null,
            "flex": null,
            "flex_flow": null,
            "grid_area": null,
            "grid_auto_columns": null,
            "grid_auto_flow": null,
            "grid_auto_rows": null,
            "grid_column": null,
            "grid_gap": null,
            "grid_row": null,
            "grid_template_areas": null,
            "grid_template_columns": null,
            "grid_template_rows": null,
            "height": null,
            "justify_content": null,
            "justify_items": null,
            "left": null,
            "margin": null,
            "max_height": null,
            "max_width": null,
            "min_height": null,
            "min_width": null,
            "object_fit": null,
            "object_position": null,
            "order": null,
            "overflow": null,
            "overflow_x": null,
            "overflow_y": null,
            "padding": null,
            "right": null,
            "top": null,
            "visibility": null,
            "width": null
          }
        },
        "2a1b7e8edfe54580a852bfd6c51bcd66": {
          "model_module": "@jupyter-widgets/controls",
          "model_name": "ProgressStyleModel",
          "model_module_version": "1.5.0",
          "state": {
            "_model_module": "@jupyter-widgets/controls",
            "_model_module_version": "1.5.0",
            "_model_name": "ProgressStyleModel",
            "_view_count": null,
            "_view_module": "@jupyter-widgets/base",
            "_view_module_version": "1.2.0",
            "_view_name": "StyleView",
            "bar_color": null,
            "description_width": ""
          }
        },
        "a32666f99ce7465eb859ed92d445be6d": {
          "model_module": "@jupyter-widgets/base",
          "model_name": "LayoutModel",
          "model_module_version": "1.2.0",
          "state": {
            "_model_module": "@jupyter-widgets/base",
            "_model_module_version": "1.2.0",
            "_model_name": "LayoutModel",
            "_view_count": null,
            "_view_module": "@jupyter-widgets/base",
            "_view_module_version": "1.2.0",
            "_view_name": "LayoutView",
            "align_content": null,
            "align_items": null,
            "align_self": null,
            "border": null,
            "bottom": null,
            "display": null,
            "flex": null,
            "flex_flow": null,
            "grid_area": null,
            "grid_auto_columns": null,
            "grid_auto_flow": null,
            "grid_auto_rows": null,
            "grid_column": null,
            "grid_gap": null,
            "grid_row": null,
            "grid_template_areas": null,
            "grid_template_columns": null,
            "grid_template_rows": null,
            "height": null,
            "justify_content": null,
            "justify_items": null,
            "left": null,
            "margin": null,
            "max_height": null,
            "max_width": null,
            "min_height": null,
            "min_width": null,
            "object_fit": null,
            "object_position": null,
            "order": null,
            "overflow": null,
            "overflow_x": null,
            "overflow_y": null,
            "padding": null,
            "right": null,
            "top": null,
            "visibility": null,
            "width": null
          }
        },
        "1c7ee05a9e584a8e9bd3bb3fa3c4c310": {
          "model_module": "@jupyter-widgets/controls",
          "model_name": "DescriptionStyleModel",
          "model_module_version": "1.5.0",
          "state": {
            "_model_module": "@jupyter-widgets/controls",
            "_model_module_version": "1.5.0",
            "_model_name": "DescriptionStyleModel",
            "_view_count": null,
            "_view_module": "@jupyter-widgets/base",
            "_view_module_version": "1.2.0",
            "_view_name": "StyleView",
            "description_width": ""
          }
        }
      }
    }
  },
  "cells": [
    {
      "cell_type": "markdown",
      "metadata": {
        "id": "view-in-github",
        "colab_type": "text"
      },
      "source": [
        "<a href=\"https://colab.research.google.com/github/kailliang/LLAMA-3-Local-Deploying/blob/main/LLAMA_3.ipynb\" target=\"_parent\"><img src=\"https://colab.research.google.com/assets/colab-badge.svg\" alt=\"Open In Colab\"/></a>"
      ]
    },
    {
      "cell_type": "code",
      "source": [
        "!pip install transformers accelerate bitsandbytes sentencepiece\n",
        "!pip install modelscope"
      ],
      "metadata": {
        "id": "EP-dT961zfU4"
      },
      "execution_count": null,
      "outputs": []
    },
    {
      "cell_type": "markdown",
      "source": [
        "# 💡 Core Steps:\n",
        "##1️⃣ Imports"
      ],
      "metadata": {
        "id": "1xvK6lyhXthO"
      }
    },
    {
      "cell_type": "code",
      "source": [
        "from modelscope import snapshot_download\n",
        "from transformers import AutoModelForCausalLM,AutoTokenizer\n",
        "from transformers.generation import GenerationConfig"
      ],
      "metadata": {
        "id": "ZHsjwBC03fZB"
      },
      "execution_count": null,
      "outputs": []
    },
    {
      "cell_type": "markdown",
      "source": [
        "##2️⃣ Deploy LLAMA-3"
      ],
      "metadata": {
        "id": "OgUJ0vmaX9n2"
      }
    },
    {
      "cell_type": "code",
      "source": [
        "model_dir = snapshot_download(\"LLM-Research/Meta-Llama-3-8B-Instruct\", cache_dir='./')\n",
        "model_path = \"/content/LLM-Research/Meta-Llama-3-8B-Instruct\"\n",
        "tokenizer = AutoTokenizer.from_pretrained(model_path, trust_remote_code=True)\n",
        "llm_chain = AutoModelForCausalLM.from_pretrained(model_path,device_map =\"auto\", trust_remote_code=True).eval()\n",
        "llm_chain.generation_config = GenerationConfig.from_pretrained(model_path, trust_remote_code=True)"
      ],
      "metadata": {
        "colab": {
          "base_uri": "https://localhost:8080/",
          "height": 66,
          "referenced_widgets": [
            "1d764ad584564b7280bf668869b137a5",
            "97c7ecf06f9940fabe5f9fde1f25b53c",
            "8aca835910844c9db81f6c7fb2d14733",
            "98ca695b3723456d95d8dacdf9aac4eb",
            "a1593afce38e4b2e83e0fdfedb0b734f",
            "a724c3127c0c4c1b93a6a3391522bec7",
            "47f83454776247bd8ff79fd380d9415d",
            "4c277c76d7414f15b28cbbf961b7cb2a",
            "2a1b7e8edfe54580a852bfd6c51bcd66",
            "a32666f99ce7465eb859ed92d445be6d",
            "1c7ee05a9e584a8e9bd3bb3fa3c4c310"
          ]
        },
        "id": "sKF-7FsL5zQc",
        "outputId": "8823dffd-7bab-4fae-910b-d52c81a62739"
      },
      "execution_count": null,
      "outputs": [
        {
          "output_type": "display_data",
          "data": {
            "text/plain": [
              "Loading checkpoint shards:   0%|          | 0/4 [00:00<?, ?it/s]"
            ],
            "application/vnd.jupyter.widget-view+json": {
              "version_major": 2,
              "version_minor": 0,
              "model_id": "1d764ad584564b7280bf668869b137a5"
            }
          },
          "metadata": {}
        },
        {
          "output_type": "stream",
          "name": "stderr",
          "text": [
            "WARNING:accelerate.big_modeling:Some parameters are on the meta device because they were offloaded to the cpu and disk.\n"
          ]
        }
      ]
    },
    {
      "cell_type": "markdown",
      "source": [
        "##3️⃣ Build the Inference Function"
      ],
      "metadata": {
        "id": "5Xe6a2qUYAhy"
      }
    },
    {
      "cell_type": "code",
      "source": [
        "text = \"Hello, please tell me a joke\"\n",
        "messages = [{\"role\": \"user\", \"content\": text}]\n",
        "input_ids = tokenizer.apply_chat_template(conversation=messages, tokenize=True,\n",
        "                                          add_generation_prompt=True, return_tensors='pt')\n",
        "output_ids = llm_chain.generate(input_ids.to('cuda'), max_new_tokens=4098)\n",
        "response = tokenizer.decode(output_ids[0][input_ids.shape[1]:], skip_special_tokens=True)"
      ],
      "metadata": {
        "id": "906-P6Do5zCY"
      },
      "execution_count": null,
      "outputs": []
    },
    {
      "cell_type": "code",
      "source": [
        "print(response)"
      ],
      "metadata": {
        "colab": {
          "base_uri": "https://localhost:8080/"
        },
        "id": "DSzKoTZR3H5A",
        "outputId": "0e6d89f2-f1f6-4514-b33a-efe59d04f35a"
      },
      "execution_count": null,
      "outputs": [
        {
          "output_type": "stream",
          "name": "stdout",
          "text": [
            "Here's one:\n",
            "\n",
            "Why couldn't the bicycle stand up by itself?\n",
            "\n",
            "(wait for it...)\n",
            "\n",
            "Because it was two-tired!\n",
            "\n",
            "Hope that made you smile! Do you want to hear another one?\n"
          ]
        }
      ]
    },
    {
      "cell_type": "code",
      "source": [
        "from transformers import AutoTokenizer, AutoModelForCausalLM, GenerationConfig\n",
        "from huggingface_hub import snapshot_download\n",
        "\n",
        "# Download model\n",
        "# model_dir = snapshot_download(\"LLM-Research/Meta-Llama-3-8B-Instruct\", cache_dir='./')\n",
        "# model_path = \"/content/LLM-Research/Meta-Llama-3-8B-Instruct\"\n",
        "\n",
        "# Load tokenizer and set pad_token_id if not set\n",
        "tokenizer = AutoTokenizer.from_pretrained(model_path, trust_remote_code=True)\n",
        "if tokenizer.pad_token is None:\n",
        "    tokenizer.pad_token = tokenizer.eos_token\n",
        "\n",
        "# Load model\n",
        "# llm_chain = AutoModelForCausalLM.from_pretrained(\n",
        "#     model_path,\n",
        "#     device_map=\"auto\",\n",
        "#     trust_remote_code=True).eval()\n",
        "\n",
        "# Set generation configuration\n",
        "llm_chain.generation_config = GenerationConfig.from_pretrained(model_path, trust_remote_code=True)\n",
        "\n",
        "# Input text and conversation format\n",
        "text = \"Hello\"\n",
        "messages = [{\"role\": \"user\", \"content\": text}]\n",
        "\n",
        "# Tokenize input with padding and attention mask\n",
        "input_ids = tokenizer.apply_chat_template(\n",
        "    conversation=messages,\n",
        "    tokenize=True,\n",
        "    add_generation_prompt=True,\n",
        "    return_tensors='pt',\n",
        "    padding=True)\n",
        "\n",
        "# Move input tensors to GPU and pass attention_mask\n",
        "input_ids = input_ids.to('cuda')\n",
        "attention_mask = (input_ids != tokenizer.pad_token_id).to('cuda')  # Create attention mask\n",
        "\n",
        "# Generate response\n",
        "output_ids = llm_chain.generate(\n",
        "    input_ids,\n",
        "    attention_mask=attention_mask,\n",
        "    max_new_tokens=4098\n",
        ")\n",
        "\n",
        "# Decode the response\n",
        "response = tokenizer.decode(output_ids[0][input_ids.shape[1]:], skip_special_tokens=True)\n",
        "print(response)\n"
      ],
      "metadata": {
        "colab": {
          "base_uri": "https://localhost:8080/"
        },
        "id": "J2FVTcxP3H2N",
        "outputId": "0290a5cd-a103-4d8c-9d9a-6e20f165dc13"
      },
      "execution_count": null,
      "outputs": [
        {
          "output_type": "stream",
          "name": "stderr",
          "text": [
            "Setting `pad_token_id` to `eos_token_id`:None for open-end generation.\n"
          ]
        },
        {
          "output_type": "stream",
          "name": "stdout",
          "text": [
            "Hello! It's nice to meet you. Is there something I can help you with, or would you like to chat?\n"
          ]
        }
      ]
    },
    {
      "cell_type": "code",
      "source": [],
      "metadata": {
        "id": "W76vh3PIFN3u"
      },
      "execution_count": null,
      "outputs": []
    }
  ]
}